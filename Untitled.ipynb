{
 "cells": [
  {
   "cell_type": "code",
   "execution_count": 52,
   "metadata": {},
   "outputs": [
    {
     "name": "stdout",
     "output_type": "stream",
     "text": [
      "      CreditScore  Gender  Age  Tenure    Balance  NumOfProducts  HasCrCard  \\\n",
      "0             619       0   42       2       0.00              1          1   \n",
      "1             608       0   41       1   83807.86              1          0   \n",
      "2             502       0   42       8  159660.80              3          1   \n",
      "3             699       0   39       1       0.00              2          0   \n",
      "4             850       0   43       2  125510.82              1          1   \n",
      "...           ...     ...  ...     ...        ...            ...        ...   \n",
      "9995          771       1   39       5       0.00              2          1   \n",
      "9996          516       1   35      10   57369.61              1          1   \n",
      "9997          709       0   36       7       0.00              1          0   \n",
      "9998          772       1   42       3   75075.31              2          1   \n",
      "9999          792       0   28       4  130142.79              1          1   \n",
      "\n",
      "      IsActiveMember  EstimatedSalary  Class/Exited  country_France  \\\n",
      "0                  1        101348.88             1               1   \n",
      "1                  1        112542.58             0               0   \n",
      "2                  0        113931.57             1               1   \n",
      "3                  0         93826.63             0               1   \n",
      "4                  1         79084.10             0               0   \n",
      "...              ...              ...           ...             ...   \n",
      "9995               0         96270.64             0               1   \n",
      "9996               1        101699.77             0               1   \n",
      "9997               1         42085.58             1               1   \n",
      "9998               0         92888.52             1               0   \n",
      "9999               0         38190.78             0               1   \n",
      "\n",
      "      country_Germany  country_Spain  \n",
      "0                   0              0  \n",
      "1                   0              1  \n",
      "2                   0              0  \n",
      "3                   0              0  \n",
      "4                   0              1  \n",
      "...               ...            ...  \n",
      "9995                0              0  \n",
      "9996                0              0  \n",
      "9997                0              0  \n",
      "9998                1              0  \n",
      "9999                0              0  \n",
      "\n",
      "[10000 rows x 13 columns]\n"
     ]
    }
   ],
   "source": [
    "import tensorflow.compat.v1 as tf\n",
    "import os\n",
    "import pandas as pd\n",
    "import numpy as np\n",
    "\n",
    "tf.disable_v2_behavior() \n",
    "tf.executing_eagerly()\n",
    "df =pd.read_csv(os.path.join(os.getcwd(),\"churn-modelling.csv\"))\n",
    "df = pd.concat([df,pd.get_dummies(df['Geography'], prefix='country')],axis=1)\n",
    "df['Gender'] = pd.Categorical(df['Gender'])\n",
    "df['Gender'] = df.Gender.cat.codes\n",
    "df = df.drop([\"RowNumber\", \"CustomerId\", \"Surname\",'Geography'], axis=1)\n",
    "print(df)"
   ]
  },
  {
   "cell_type": "code",
   "execution_count": null,
   "metadata": {},
   "outputs": [],
   "source": []
  },
  {
   "cell_type": "code",
   "execution_count": null,
   "metadata": {},
   "outputs": [],
   "source": []
  },
  {
   "cell_type": "code",
   "execution_count": null,
   "metadata": {},
   "outputs": [],
   "source": []
  }
 ],
 "metadata": {
  "kernelspec": {
   "display_name": "Python 3",
   "language": "python",
   "name": "python3"
  },
  "language_info": {
   "codemirror_mode": {
    "name": "ipython",
    "version": 3
   },
   "file_extension": ".py",
   "mimetype": "text/x-python",
   "name": "python",
   "nbconvert_exporter": "python",
   "pygments_lexer": "ipython3",
   "version": "3.7.7"
  }
 },
 "nbformat": 4,
 "nbformat_minor": 4
}
