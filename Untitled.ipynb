{
 "cells": [
  {
   "cell_type": "code",
   "execution_count": 2,
   "metadata": {
    "scrolled": true
   },
   "outputs": [
    {
     "name": "stdout",
     "output_type": "stream",
     "text": [
      "Features: [6.1900000e+02 0.0000000e+00 4.2000000e+01 2.0000000e+00 0.0000000e+00\n",
      " 1.0000000e+00 1.0000000e+00 1.0000000e+00 1.0134888e+05 1.0000000e+00\n",
      " 0.0000000e+00 0.0000000e+00], Target: 1\n",
      "Features: [6.0800000e+02 0.0000000e+00 4.1000000e+01 1.0000000e+00 8.3807860e+04\n",
      " 1.0000000e+00 0.0000000e+00 1.0000000e+00 1.1254258e+05 0.0000000e+00\n",
      " 0.0000000e+00 1.0000000e+00], Target: 0\n",
      "Features: [5.0200000e+02 0.0000000e+00 4.2000000e+01 8.0000000e+00 1.5966080e+05\n",
      " 3.0000000e+00 1.0000000e+00 0.0000000e+00 1.1393157e+05 1.0000000e+00\n",
      " 0.0000000e+00 0.0000000e+00], Target: 1\n",
      "Features: [6.990000e+02 0.000000e+00 3.900000e+01 1.000000e+00 0.000000e+00\n",
      " 2.000000e+00 0.000000e+00 0.000000e+00 9.382663e+04 1.000000e+00\n",
      " 0.000000e+00 0.000000e+00], Target: 0\n",
      "Features: [8.5000000e+02 0.0000000e+00 4.3000000e+01 2.0000000e+00 1.2551082e+05\n",
      " 1.0000000e+00 1.0000000e+00 1.0000000e+00 7.9084100e+04 0.0000000e+00\n",
      " 0.0000000e+00 1.0000000e+00], Target: 0\n"
     ]
    }
   ],
   "source": [
    "import pandas as pd\n",
    "import tensorflow as tf\n",
    "import os\n",
    "\n",
    "import numpy as np\n",
    "\n",
    "df =pd.read_csv(\"F:\\churn-modelling\\churn-modelling.csv\")\n",
    "df = pd.concat([df,pd.get_dummies(df['Geography'], prefix='country')],axis=1)\n",
    "df['Gender'] = pd.Categorical(df['Gender'])\n",
    "df['Gender'] = df.Gender.cat.codes\n",
    "df = df.drop([\"RowNumber\", \"CustomerId\", \"Surname\",'Geography'], axis=1)\n",
    "df = df[['CreditScore','Gender','Age','Tenure','Balance','NumOfProducts','HasCrCard','IsActiveMember','EstimatedSalary','country_France','country_Germany','country_Spain','Class/Exited']]\n",
    "\n",
    "df.head()\n",
    "target = df.pop('Class/Exited')\n",
    "target\n",
    "df.values\n",
    "dataset = tf.data.Dataset.from_tensor_slices((df.values, target.values))\n",
    "dataset\n",
    "for feat, targ in dataset.take(5):\n",
    "  print ('Features: {}, Target: {}'.format(feat, targ))\n",
    "\n"
   ]
  },
  {
   "cell_type": "code",
   "execution_count": null,
   "metadata": {},
   "outputs": [],
   "source": [
    "\n",
    "\n"
   ]
  },
  {
   "cell_type": "code",
   "execution_count": null,
   "metadata": {},
   "outputs": [],
   "source": []
  },
  {
   "cell_type": "code",
   "execution_count": null,
   "metadata": {},
   "outputs": [],
   "source": []
  },
  {
   "cell_type": "code",
   "execution_count": null,
   "metadata": {},
   "outputs": [],
   "source": []
  }
 ],
 "metadata": {
  "kernelspec": {
   "display_name": "Python 3",
   "language": "python",
   "name": "python3"
  },
  "language_info": {
   "codemirror_mode": {
    "name": "ipython",
    "version": 3
   },
   "file_extension": ".py",
   "mimetype": "text/x-python",
   "name": "python",
   "nbconvert_exporter": "python",
   "pygments_lexer": "ipython3",
   "version": "3.7.7"
  }
 },
 "nbformat": 4,
 "nbformat_minor": 4
}
