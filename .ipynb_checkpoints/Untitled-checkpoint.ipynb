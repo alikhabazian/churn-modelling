{
 "cells": [
  {
   "cell_type": "code",
   "execution_count": 10,
   "metadata": {
    "scrolled": true
   },
   "outputs": [],
   "source": [
    "import pandas as pd\n",
    "import tensorflow.compat.v1 as tf\n",
    "tf.disable_v2_behavior() \n",
    "import os\n",
    "\n",
    "import numpy as np\n",
    "\n",
    "df =pd.read_csv(\"F:\\churn-modelling\\churn-modelling.csv\")\n",
    "df = pd.concat([df,pd.get_dummies(df['Geography'], prefix='country')],axis=1)\n",
    "df['Gender'] = pd.Categorical(df['Gender'])\n",
    "df['Gender'] = df.Gender.cat.codes\n",
    "df = df.drop([\"RowNumber\", \"CustomerId\", \"Surname\",'Geography'], axis=1)\n",
    "df = df[['CreditScore','Gender','Age','Tenure','Balance','NumOfProducts','HasCrCard','IsActiveMember','EstimatedSalary','country_France','country_Germany','country_Spain','Class/Exited']]\n",
    "\n",
    "df.head()\n",
    "target = df.pop('Class/Exited')\n",
    "dataset = tf.data.Dataset.from_tensor_slices((df.values, target.values))\n",
    "# for feat, targ in dataset.take(5):\n",
    "#   print ('Features: {}, Target: {}'.format(len(feat), targ))\n",
    "# train_dataset = dataset.shuffle(len(df)).batch(1)\n",
    "\n"
   ]
  },
  {
   "cell_type": "code",
   "execution_count": 21,
   "metadata": {},
   "outputs": [
    {
     "name": "stdout",
     "output_type": "stream",
     "text": [
      "ERROR:tensorflow:==================================\n",
      "Object was never used (type <class 'tensorflow.python.framework.ops.Operation'>):\n",
      "<tf.Operation 'init' type=NoOp>\n",
      "If you want to mark it as used call its \"mark_used()\" method.\n",
      "It was originally created here:\n",
      "  File \"c:\\users\\ali\\appdata\\local\\programs\\python\\python37\\lib\\site-packages\\IPython\\core\\interactiveshell.py\", line 3351, in run_code\n",
      "    return outflag  File \"<ipython-input-20-260134f3170d>\", line 27, in <module>\n",
      "    init =tf.initialize_all_variables()  File \"c:\\users\\ali\\appdata\\local\\programs\\python\\python37\\lib\\site-packages\\tensorflow_core\\python\\util\\tf_should_use.py\", line 237, in wrapped\n",
      "    error_in_function=error_in_function)\n",
      "==================================\n"
     ]
    },
    {
     "ename": "AttributeError",
     "evalue": "module 'tensorflow_core.compat.v1' has no attribute 'session'",
     "output_type": "error",
     "traceback": [
      "\u001b[1;31m---------------------------------------------------------------------------\u001b[0m",
      "\u001b[1;31mAttributeError\u001b[0m                            Traceback (most recent call last)",
      "\u001b[1;32m<ipython-input-21-07604088fb78>\u001b[0m in \u001b[0;36m<module>\u001b[1;34m\u001b[0m\n\u001b[0;32m     28\u001b[0m \u001b[0mmerged_summary_op\u001b[0m \u001b[1;33m=\u001b[0m\u001b[0mtf\u001b[0m\u001b[1;33m.\u001b[0m\u001b[0msummary\u001b[0m\u001b[1;33m.\u001b[0m\u001b[0mmerge_all\u001b[0m\u001b[1;33m(\u001b[0m\u001b[1;33m)\u001b[0m\u001b[1;33m\u001b[0m\u001b[1;33m\u001b[0m\u001b[0m\n\u001b[0;32m     29\u001b[0m \u001b[1;33m\u001b[0m\u001b[0m\n\u001b[1;32m---> 30\u001b[1;33m \u001b[1;32mwith\u001b[0m \u001b[0mtf\u001b[0m\u001b[1;33m.\u001b[0m\u001b[0msession\u001b[0m\u001b[1;33m(\u001b[0m\u001b[1;33m)\u001b[0m \u001b[1;32mas\u001b[0m \u001b[0msess\u001b[0m\u001b[1;33m:\u001b[0m\u001b[1;33m\u001b[0m\u001b[1;33m\u001b[0m\u001b[0m\n\u001b[0m\u001b[0;32m     31\u001b[0m     \u001b[0msess\u001b[0m\u001b[1;33m.\u001b[0m\u001b[0mrun\u001b[0m\u001b[1;33m(\u001b[0m\u001b[0minit\u001b[0m\u001b[1;33m)\u001b[0m\u001b[1;33m\u001b[0m\u001b[1;33m\u001b[0m\u001b[0m\n\u001b[0;32m     32\u001b[0m \u001b[1;33m\u001b[0m\u001b[0m\n",
      "\u001b[1;31mAttributeError\u001b[0m: module 'tensorflow_core.compat.v1' has no attribute 'session'"
     ]
    }
   ],
   "source": [
    "learning_rate = 0.001\n",
    "training_iters = 200000\n",
    "batch_size = 128\n",
    "display_step = 10\n",
    "\n",
    "# Network Parameters\n",
    "n_input = 12 # MNIST data input (img shape: 28*28)\n",
    "n_classes = 2 # MNIST total classes (0-9 digits)\n",
    "x = tf.placeholder(tf.float32, [None, n_input])\n",
    "y = tf.placeholder(tf.float32, [None, n_classes])\n",
    "w=tf.Variable(tf.zeros([n_input,n_classes]))\n",
    "b=tf.Variable(tf.zeros([n_classes]))\n",
    "\n",
    "with tf.name_scope(\"wxb\") as scope:\n",
    "    model =tf.nn.softmax(tf.matmul(x,w)+b)    \n",
    "    \n",
    "w_h=tf.summary.histogram(\"weights\",w)\n",
    "b_h=tf.summary.histogram(\"weights\",b)\n",
    "\n",
    "with tf.name_scope(\"cost_functions\") as scope:\n",
    "    cost_function = -tf.reduce_sum(y*tf.log(model))\n",
    "    tf.summary.scalar('cost_function',cost_function)\n",
    "    \n",
    "with tf.name_scope('train') as scope:\n",
    "    optimizer=tf.train.GradientDescentOptimizer(learning_rate).minimize(cost_function)\n",
    "    \n",
    "init =tf.initialize_all_variables()\n",
    "merged_summary_op =tf.summary.merge_all()\n",
    "\n",
    "with tf.ession() as sess:\n",
    "    sess.run(init)\n",
    "    \n",
    "    \n",
    "    for iteration in range(training_iters):\n",
    "        avg_cost=0\n",
    "        total_batch = int(mnist.train.dataset/batch_size)\n",
    "        \n",
    "        for i in range(total_batch):\n",
    "            batch_xs,batch_ys  =mnist.train.next_batch(batch_size)\n",
    "            \n",
    "            sess.run(optimizer,feed_dict={x:batch_xs ,y:batch_ys})\n",
    "            avg_cost +=sess.run(cost_function ,feed_dict={x:batch_xs ,y:batch_ys})/total_batch \n",
    "            \n",
    "            summary_str =sess.run(merged_summary_op ,feed_dict={x:batch_xs ,y:batch_ys}) \n",
    "            summary_writer.add_summary(summary_str,iteration*total_batch +i)\n",
    "            if iteration % display_step ==0 :\n",
    "                print('iteration:','%04d'%(iteration+1),'cost=','{:.9f}'.format(avg_cost))\n",
    "    print('tuning completed!')\n",
    "        \n",
    "    \n",
    "    \n",
    " \n"
   ]
  },
  {
   "cell_type": "code",
   "execution_count": null,
   "metadata": {},
   "outputs": [],
   "source": [
    "\n"
   ]
  },
  {
   "cell_type": "code",
   "execution_count": null,
   "metadata": {},
   "outputs": [],
   "source": []
  },
  {
   "cell_type": "code",
   "execution_count": null,
   "metadata": {},
   "outputs": [],
   "source": []
  }
 ],
 "metadata": {
  "kernelspec": {
   "display_name": "Python 3",
   "language": "python",
   "name": "python3"
  },
  "language_info": {
   "codemirror_mode": {
    "name": "ipython",
    "version": 3
   },
   "file_extension": ".py",
   "mimetype": "text/x-python",
   "name": "python",
   "nbconvert_exporter": "python",
   "pygments_lexer": "ipython3",
   "version": "3.7.7"
  }
 },
 "nbformat": 4,
 "nbformat_minor": 4
}
