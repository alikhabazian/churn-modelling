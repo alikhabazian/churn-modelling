{
 "cells": [
  {
   "cell_type": "code",
   "execution_count": 27,
   "metadata": {},
   "outputs": [
    {
     "name": "stdout",
     "output_type": "stream",
     "text": [
      "Train for 1 steps\n",
      "Epoch 1/20\n",
      "1/1 [==============================] - 0s 484ms/step - loss: 15.0673 - accuracy: 0.2739\n",
      "Epoch 2/20\n",
      "1/1 [==============================] - 0s 12ms/step - loss: 13.8615 - accuracy: 0.2739\n",
      "Epoch 3/20\n",
      "1/1 [==============================] - 0s 12ms/step - loss: 12.6544 - accuracy: 0.2739\n",
      "Epoch 4/20\n",
      "1/1 [==============================] - 0s 11ms/step - loss: 11.4444 - accuracy: 0.2739\n",
      "Epoch 5/20\n",
      "1/1 [==============================] - 0s 11ms/step - loss: 10.2359 - accuracy: 0.2739\n",
      "Epoch 6/20\n",
      "1/1 [==============================] - 0s 13ms/step - loss: 9.0283 - accuracy: 0.2739\n",
      "Epoch 7/20\n",
      "1/1 [==============================] - 0s 13ms/step - loss: 7.8207 - accuracy: 0.2739\n",
      "Epoch 8/20\n",
      "1/1 [==============================] - 0s 13ms/step - loss: 6.6145 - accuracy: 0.2739\n",
      "Epoch 9/20\n",
      "1/1 [==============================] - 0s 14ms/step - loss: 5.4101 - accuracy: 0.2739\n",
      "Epoch 10/20\n",
      "1/1 [==============================] - 0s 12ms/step - loss: 4.2119 - accuracy: 0.2739\n",
      "Epoch 11/20\n",
      "1/1 [==============================] - 0s 13ms/step - loss: 3.0458 - accuracy: 0.2805\n",
      "Epoch 12/20\n",
      "1/1 [==============================] - 0s 13ms/step - loss: 2.0102 - accuracy: 0.3960\n",
      "Epoch 13/20\n",
      "1/1 [==============================] - 0s 13ms/step - loss: 1.2669 - accuracy: 0.5776\n",
      "Epoch 14/20\n",
      "1/1 [==============================] - 0s 12ms/step - loss: 0.8873 - accuracy: 0.6601\n",
      "Epoch 15/20\n",
      "1/1 [==============================] - 0s 13ms/step - loss: 0.8043 - accuracy: 0.7129\n",
      "Epoch 16/20\n",
      "1/1 [==============================] - 0s 12ms/step - loss: 0.9024 - accuracy: 0.7195\n",
      "Epoch 17/20\n",
      "1/1 [==============================] - 0s 13ms/step - loss: 1.0839 - accuracy: 0.7261\n",
      "Epoch 18/20\n",
      "1/1 [==============================] - 0s 15ms/step - loss: 1.2860 - accuracy: 0.7327\n",
      "Epoch 19/20\n",
      "1/1 [==============================] - 0s 13ms/step - loss: 1.4747 - accuracy: 0.7294\n",
      "Epoch 20/20\n",
      "1/1 [==============================] - 0s 13ms/step - loss: 1.6347 - accuracy: 0.7228\n"
     ]
    },
    {
     "data": {
      "text/plain": [
       "<tensorflow.python.keras.callbacks.History at 0x24d2fafbc08>"
      ]
     },
     "execution_count": 27,
     "metadata": {},
     "output_type": "execute_result"
    }
   ],
   "source": [
    "import pandas as pd\n",
    "import tensorflow as tf\n",
    "\n",
    "\n",
    "csv_file = tf.keras.utils.get_file('heart.csv', 'https://storage.googleapis.com/applied-dl/heart.csv')\n",
    "\n",
    "df = pd.read_csv(csv_file)\n",
    "\n",
    "df['thal'] = pd.Categorical(df['thal'])\n",
    "\n",
    "df['thal'] = df.thal.cat.codes\n",
    "\n",
    "target = df.pop('target')\n",
    "\n",
    "dataset = tf.data.Dataset.from_tensor_slices((df.values, target.values))\n",
    "tf.constant(df['thal'])\n",
    "train_dataset = dataset.shuffle(len(df)).batch(303)\n",
    "def get_compiled_model():\n",
    "  model = tf.keras.Sequential([\n",
    "    tf.keras.layers.Dense(10, activation='relu'),\n",
    "    tf.keras.layers.Dense(10, activation='relu'),\n",
    "    tf.keras.layers.Dense(1)\n",
    "    \n",
    "  ])\n",
    "\n",
    "  model.compile(optimizer=tf.train.GradientDescentOptimizer(0.5)',\n",
    "                loss=tf.keras.losses.BinaryCrossentropy(from_logits=True),\n",
    "                metrics=['accuracy'])\n",
    "  return model\n",
    "\n",
    "\n",
    "model = get_compiled_model()\n",
    "model.fit(train_dataset, epochs=20)"
   ]
  },
  {
   "cell_type": "code",
   "execution_count": null,
   "metadata": {},
   "outputs": [],
   "source": []
  },
  {
   "cell_type": "code",
   "execution_count": null,
   "metadata": {},
   "outputs": [],
   "source": []
  },
  {
   "cell_type": "code",
   "execution_count": null,
   "metadata": {},
   "outputs": [],
   "source": []
  },
  {
   "cell_type": "code",
   "execution_count": null,
   "metadata": {},
   "outputs": [],
   "source": []
  }
 ],
 "metadata": {
  "kernelspec": {
   "display_name": "Python 3",
   "language": "python",
   "name": "python3"
  },
  "language_info": {
   "codemirror_mode": {
    "name": "ipython",
    "version": 3
   },
   "file_extension": ".py",
   "mimetype": "text/x-python",
   "name": "python",
   "nbconvert_exporter": "python",
   "pygments_lexer": "ipython3",
   "version": "3.7.7"
  }
 },
 "nbformat": 4,
 "nbformat_minor": 4
}
